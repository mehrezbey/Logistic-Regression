{
 "cells": [
  {
   "cell_type": "markdown",
   "id": "8254161c-82cb-4f03-8870-7ef78a41150a",
   "metadata": {},
   "source": [
    "## Goals\n",
    "-  Build a classification model for predicting loan approval or denial based on various demographic and financial features."
   ]
  },
  {
   "cell_type": "markdown",
   "id": "df753686-687b-40e0-9a56-989e3c7094d0",
   "metadata": {},
   "source": [
    "# Part One : From Scratch"
   ]
  },
  {
   "cell_type": "code",
   "execution_count": 1,
   "id": "3c8573bc-2551-4d57-9104-c006ef306642",
   "metadata": {},
   "outputs": [],
   "source": [
    "import math, copy\n",
    "import pandas as pd\n",
    "import numpy as np\n",
    "import matplotlib.pyplot as plt\n",
    "np.set_printoptions(precision=5) "
   ]
  },
  {
   "cell_type": "markdown",
   "id": "bb58d13a-c2a3-4ee7-8770-1ca130bda5dc",
   "metadata": {},
   "source": [
    "# Problem Statement\n",
    "We aim to provide insights into the relationship between the predictor variables and loan status. We will use this dataset to explore the impact of age, gender, marital_status, income  and credit_score on the status of a loan.\n",
    "\n",
    "### Variables:\n",
    "- age (int): The age of the individual.\n",
    "- gender (binary): The gender of the individual, either 'Male' (1) or 'Female'(0).\n",
    "- marital_status (binary): The marital status of the individual, either 'Married'(1) or 'Single'(0).\n",
    "- income (int): The annual income of the individual in dollars.\n",
    "- credit_score (int): The credit score of the individual, ranging from 300 to 850.\n",
    "### Target Variable:\n",
    "- loan_status (binary): The target variable, indicating whether the loan application was 'Approved' (1) or 'Denied' (0).\n",
    "  \n",
    "The training data is from [Kaggle](https://www.kaggle.com/datasets/sujithmandala/simple-loan-classification-dataset)."
   ]
  },
  {
   "cell_type": "code",
   "execution_count": 2,
   "id": "69f3ce67-7125-4a30-9d3c-14762d5e00bd",
   "metadata": {},
   "outputs": [],
   "source": [
    "# Read CSV file\n",
    "f = pd.read_csv(\"data/loan.csv\")"
   ]
  },
  {
   "cell_type": "code",
   "execution_count": 3,
   "id": "38519011-5f91-430b-a01b-80186ae1cf7b",
   "metadata": {},
   "outputs": [
    {
     "name": "stdout",
     "output_type": "stream",
     "text": [
      "   age  gender  marital_status  income  credit_score  loan_status\n",
      "0   32       1               1   85000           720            1\n",
      "1   45       0               0   62000           680            1\n",
      "2   28       1               0   25000           590            0\n",
      "3   51       0               1  105000           780            1\n",
      "4   36       1               1   75000           710            1\n"
     ]
    }
   ],
   "source": [
    "# Display the first rows of the data frame\n",
    "print(f.head())"
   ]
  },
  {
   "cell_type": "code",
   "execution_count": 4,
   "id": "d88fe942-4c93-4606-8851-1b6cb7754ec0",
   "metadata": {},
   "outputs": [
    {
     "name": "stdout",
     "output_type": "stream",
     "text": [
      "Index(['age', 'gender', 'marital_status', 'income', 'credit_score',\n",
      "       'loan_status'],\n",
      "      dtype='object')\n"
     ]
    },
    {
     "data": {
      "text/plain": [
       "age               0\n",
       "gender            0\n",
       "marital_status    0\n",
       "income            0\n",
       "credit_score      0\n",
       "loan_status       0\n",
       "dtype: int64"
      ]
     },
     "execution_count": 4,
     "metadata": {},
     "output_type": "execute_result"
    }
   ],
   "source": [
    "# Describe the columns\n",
    "print(f.columns)\n",
    "# Check for null values\n",
    "f.isnull().sum()"
   ]
  },
  {
   "cell_type": "code",
   "execution_count": 5,
   "id": "a42fb568-b788-4392-814f-12041263bd02",
   "metadata": {},
   "outputs": [
    {
     "name": "stdout",
     "output_type": "stream",
     "text": [
      "Number of Duplicates\n"
     ]
    },
    {
     "data": {
      "text/plain": [
       "1"
      ]
     },
     "execution_count": 5,
     "metadata": {},
     "output_type": "execute_result"
    }
   ],
   "source": [
    "# Check for duplicated values\n",
    "print(\"Number of Duplicates\")\n",
    "f.duplicated().sum()"
   ]
  },
  {
   "cell_type": "code",
   "execution_count": 6,
   "id": "7a2193bd-5892-4bc4-8659-5764af0df9f5",
   "metadata": {},
   "outputs": [
    {
     "name": "stdout",
     "output_type": "stream",
     "text": [
      "Duplicated Rows:\n",
      "    age  gender  marital_status  income  credit_score  loan_status\n",
      "8    37       1               1   92000           750            1\n",
      "52   37       1               1   92000           750            1\n"
     ]
    }
   ],
   "source": [
    "# Identify duplicated rows\n",
    "duplicates = f[f.duplicated(keep=False)]\n",
    "print(\"Duplicated Rows:\")\n",
    "print(duplicates)"
   ]
  },
  {
   "cell_type": "code",
   "execution_count": 7,
   "id": "f25a00aa-bd7f-479c-af52-0b3ecefbf3b7",
   "metadata": {},
   "outputs": [],
   "source": [
    "# Remove duplicated rows\n",
    "f = f.drop_duplicates()"
   ]
  },
  {
   "cell_type": "code",
   "execution_count": 8,
   "id": "a7b2875b-61d2-4d14-9001-55b5cf6de7ba",
   "metadata": {},
   "outputs": [
    {
     "name": "stdout",
     "output_type": "stream",
     "text": [
      "Number of Duplicates After Cleaning:\n",
      "0\n"
     ]
    }
   ],
   "source": [
    "# Verify that duplicates have been removed\n",
    "print(\"Number of Duplicates After Cleaning:\")\n",
    "print(f.duplicated().sum())"
   ]
  },
  {
   "cell_type": "code",
   "execution_count": 9,
   "id": "71b39f22-1a2f-4ff2-acb8-b910a409cf7f",
   "metadata": {},
   "outputs": [],
   "source": [
    "# Separate the independent variables (features)\n",
    "X_train = np.array(f[['age', 'gender', 'marital_status', 'income', 'credit_score']])\n",
    "# Separate the dependent variable (target)\n",
    "y_train = np.array(f['loan_status'])"
   ]
  },
  {
   "cell_type": "code",
   "execution_count": 10,
   "id": "f0d2dc5b-e9fd-4991-a092-e28d44fa554d",
   "metadata": {},
   "outputs": [
    {
     "name": "stdout",
     "output_type": "stream",
     "text": [
      "X Shape: (57, 5), X Type:<class 'numpy.ndarray'>)\n",
      "y Shape: (57,), y Type:<class 'numpy.ndarray'>)\n"
     ]
    }
   ],
   "source": [
    "# data is stored in numpy array/matrix\n",
    "print(f\"X Shape: {X_train.shape}, X Type:{type(X_train)})\")\n",
    "print(f\"y Shape: {y_train.shape}, y Type:{type(y_train)})\")"
   ]
  },
  {
   "cell_type": "code",
   "execution_count": null,
   "id": "dfc04c4c-9649-41f2-a8ea-3cfa26e5dbb6",
   "metadata": {},
   "outputs": [],
   "source": []
  },
  {
   "cell_type": "code",
   "execution_count": 11,
   "id": "9ad8f954-5fe9-4ae0-b78f-7824041ad09e",
   "metadata": {},
   "outputs": [
    {
     "data": {
      "image/png": "[encoded data removed]",
      "text/plain": [
       "<Figure size 1200x300 with 5 Axes>"
      ]
     },
     "metadata": {},
     "output_type": "display_data"
    }
   ],
   "source": [
    "fig,ax=plt.subplots(1, 5, figsize=(12, 3), constrained_layout=True)\n",
    "colors = ['r', 'g', 'b', 'y', 'm']\n",
    "for i in range(len(ax)):\n",
    "    ax[i].scatter(X_train[:,i],y_train,marker='.',c=colors[i])\n",
    "    ax[i].set_xlabel(f'{f.columns[i]}')\n",
    "ax[0].set_ylabel(\"loan status\")\n",
    "plt.show()"
   ]
  },
  {
   "cell_type": "markdown",
   "id": "641f019e-2826-4959-8b4e-b7944c59b17f",
   "metadata": {},
   "source": [
    "# Compute Cost Fucntion"
   ]
  },
  {
   "cell_type": "markdown",
   "id": "c6c11ca2-04a8-4e48-a921-9a625711f13f",
   "metadata": {},
   "source": [
    "For logistic regression, the cost function is of the form \n",
    "\n",
    "$$ J(\\mathbf{w},b) = \\frac{1}{m} \\sum_{i=0}^{m-1} \\left[ loss(f_{\\mathbf{w},b}(\\mathbf{x}^{(i)}), y^{(i)}) \\right] $$\n",
    "\n",
    "where\n",
    "* $loss(f_{\\mathbf{w},b}(\\mathbf{x}^{(i)}), y^{(i)})$ is the cost for a single data point, which is:\n",
    "\n",
    "    $$loss(f_{\\mathbf{w},b}(\\mathbf{x}^{(i)}), y^{(i)}) = -y^{(i)} \\log\\left(f_{\\mathbf{w},b}\\left( \\mathbf{x}^{(i)} \\right) \\right) - \\left( 1 - y^{(i)}\\right) \\log \\left( 1 - f_{\\mathbf{w},b}\\left( \\mathbf{x}^{(i)} \\right) \\right) $$\n",
    "    \n",
    "*  where m is the number of training examples in the data set and:\n",
    "$$\n",
    "\\begin{align}\n",
    "  f_{\\mathbf{w},b}(\\mathbf{x^{(i)}}) &= g(z^{(i)}) \\\\\n",
    "  z^{(i)} &= \\mathbf{w} \\cdot \\mathbf{x}^{(i)}+ b \\\\\n",
    "  g(z^{(i)}) &= \\frac{1}{1+e^{-z^{(i)}}} \n",
    "\\end{align}\n",
    "$$"
   ]
  },
  {
   "cell_type": "markdown",
   "id": "9638c755-77b0-4fb9-ac67-e724ea7b935c",
   "metadata": {},
   "source": [
    "### Logistic Model Prediction With Multiple Variables"
   ]
  },
  {
   "cell_type": "code",
   "execution_count": 12,
   "id": "f950e1e7-6f48-408e-b73e-e1278a97b19f",
   "metadata": {},
   "outputs": [],
   "source": [
    "def predict(x, w, b): \n",
    "    \"\"\"\n",
    "    single predict using logistic regression\n",
    "    \n",
    "    Args:\n",
    "      x (ndarray): Shape (n,) example with multiple features\n",
    "      w (ndarray): Shape (n,) model parameters   \n",
    "      b (scalar):             model parameter \n",
    "      \n",
    "    Returns:\n",
    "      p (scalar):  prediction\n",
    "    \"\"\"\n",
    "    z = np.dot(x, w) + b  \n",
    "    f_wb = 1/(1+np.exp(-z))\n",
    "    return f_wb "
   ]
  },
  {
   "cell_type": "code",
   "execution_count": 13,
   "id": "ff55b020-70b3-4658-846b-61f1c03c7832",
   "metadata": {},
   "outputs": [],
   "source": [
    "def compute_cost_logistic(X, y, w, b):\n",
    "    \"\"\"\n",
    "    Computes cost\n",
    "\n",
    "    Args:\n",
    "      X (ndarray (m,n)): Data, m examples with n features\n",
    "      y (ndarray (m,)) : target values\n",
    "      w (ndarray (n,)) : model parameters  \n",
    "      b (scalar)       : model parameter\n",
    "      \n",
    "    Returns:\n",
    "      cost (scalar): cost\n",
    "    \"\"\"\n",
    "    cost = 0\n",
    "    m = X.shape[0]\n",
    "    for i in range(m):\n",
    "        f_wb = predict( X[i],w,b)\n",
    "        #  Loss for each point or example\n",
    "        loss = -y[i]*np.log(f_wb) - (1 - y[i])*np.log(1-f_wb) \n",
    "        cost+=loss\n",
    "    cost/=m\n",
    "    return cost\n",
    "        "
   ]
  },
  {
   "cell_type": "markdown",
   "id": "3a91e4e0-28da-465c-a845-32a0d5fedbeb",
   "metadata": {},
   "source": [
    "# Logistic Gradient Descent With Multiple Features\n",
    "\n",
    "The gradient descent algorithm:\n",
    "$$\\begin{align*}\n",
    "&\\text{repeat until convergence:} \\; \\lbrace \\\\\n",
    "&  \\; \\; \\;w_j = w_j -  \\alpha \\frac{\\partial J(\\mathbf{w},b)}{\\partial w_j}  \\; & \\text{for j := 0..n-1} \\\\ \n",
    "&  \\; \\; \\;  \\; \\;b = b -  \\alpha \\frac{\\partial J(\\mathbf{w},b)}{\\partial b} \\\\\n",
    "&\\rbrace\n",
    "\\end{align*}$$\n",
    "\n",
    "Where each iteration performs simultaneous updates on $w_j$ for all $j$, where\n",
    "$$\\begin{align*}\n",
    "\\frac{\\partial J(\\mathbf{w},b)}{\\partial w_j}  &= \\frac{1}{m} \\sum\\limits_{i = 0}^{m-1} (f_{\\mathbf{w},b}(\\mathbf{x}^{(i)}) - y^{(i)})x_{j}^{(i)} \\\\\n",
    "\\frac{\\partial J(\\mathbf{w},b)}{\\partial b}  &= \\frac{1}{m} \\sum\\limits_{i = 0}^{m-1} (f_{\\mathbf{w},b}(\\mathbf{x}^{(i)}) - y^{(i)})\n",
    "\\end{align*}$$\n",
    "\n",
    "* m is the number of training examples in the data set      \n",
    "* $f_{\\mathbf{w},b}(x^{(i)})$ is the model's prediction, while $y^{(i)}$ is the target\n",
    "* For a logistic regression model\n",
    "  \n",
    "    $z = \\mathbf{w} \\cdot \\mathbf{x} + b$  \n",
    "    $f_{\\mathbf{w},b}(x) = g(z)$  \n",
    "    where $g(z)$ is the sigmoid function:  \n",
    "    $g(z) = \\frac{1}{1+e^{-z}}$   \n",
    "    \n"
   ]
  },
  {
   "cell_type": "markdown",
   "id": "5415247e-9e51-4431-86ad-0a8bea03ee9c",
   "metadata": {},
   "source": [
    "## Compute Gradient with Multiple Variables\n",
    "An implementation for calculating the equations is below. There are many ways to implement this. In this version, there is an :\n",
    "- outer loop over all m examples.\n",
    "    - $\\frac{\\partial J(\\mathbf{w},b)}{\\partial b}$ for the example can be computed directly and accumulated    - in a second loop over all n features:\n",
    "        -  $\\frac{\\partial J(\\mathbf{w},b)}{\\partial w_j}$ is computed for each $w_j$.\n",
    "      "
   ]
  },
  {
   "cell_type": "code",
   "execution_count": 14,
   "id": "964b3351-1575-4284-bc5f-f2eaa5e5d783",
   "metadata": {},
   "outputs": [],
   "source": [
    "def compute_gradient_logistic(X, y, w, b): \n",
    "    \"\"\"\n",
    "    Computes the gradient for logistic regression \n",
    " \n",
    "    Args:\n",
    "      X (ndarray (m,n): Data, m examples with n features\n",
    "      y (ndarray (m,)): target values\n",
    "      w (ndarray (n,)): model parameters  \n",
    "      b (scalar)      : model parameter\n",
    "    Returns\n",
    "      dj_dw (ndarray (n,)): The gradient of the cost w.r.t. the parameters w. \n",
    "      dj_db (scalar)      : The gradient of the cost w.r.t. the parameter b. \n",
    "    \"\"\"\n",
    "    m,n = X.shape\n",
    "    dj_dw = np.zeros((n,))\n",
    "    dj_db=0.\n",
    "    for i in range(m):\n",
    "        f_wb = predict( X[i],w,b)\n",
    "        diff = f_wb - y[i]\n",
    "        for j in range(n):\n",
    "            dj_dw[j] += (diff*X[i,j])\n",
    "        dj_db+=diff\n",
    "    dj_dw/=m\n",
    "    dj_db/=m\n",
    "    return dj_dw, dj_db"
   ]
  },
  {
   "cell_type": "markdown",
   "id": "983dd6e8-ea3c-4616-be4f-c3ae0c786504",
   "metadata": {},
   "source": [
    "## Gradient Descent Code "
   ]
  },
  {
   "cell_type": "code",
   "execution_count": 15,
   "id": "ea38a86e-3125-4c27-beed-23841e80b30f",
   "metadata": {},
   "outputs": [],
   "source": [
    "def gradient_descent(X, y, w_in, b_in, alpha, num_iters, cost_function, gradient_function):\n",
    "    \"\"\"\n",
    "    Performs gradient descent to fit w,b. Updates w,b by taking num_iters gradient steps with learning rate alpha\n",
    "    \n",
    "    Args:\n",
    "        X (ndarray (m,n))   : features\n",
    "        y (ndarray (m,))    : targets\n",
    "        w_in (ndarray (n,)) : initial model parameters  \n",
    "        b_in (scalar)       : initial model parameter\n",
    "        alpha (float)       : Learning rate ( between 0 and 1 )\n",
    "        num_iters (int)     : number of iterations to run gradient descent\n",
    "        cost_function       : function to call to produce cost\n",
    "        gradient_function   : function to call to produce gradient\n",
    "      \n",
    "    Returns:\n",
    "        w (ndarray (n,))   : Updated values of parameters \n",
    "        b (scalar)         : Updated value of parameter \n",
    "        history (List)     : History of cost values\n",
    "      \"\"\"\n",
    "    cost_history = []\n",
    "    params_history = np.zeros((num_iters,n))\n",
    "    w = copy.deepcopy(w_in)\n",
    "    b = b_in\n",
    "    for i in range(num_iters):\n",
    "        dj_dw, dj_db = gradient_function(X,y,w,b)\n",
    "        w = w - alpha*dj_dw\n",
    "        b = b - alpha*dj_db\n",
    "        if i<100000:\n",
    "            cost_history.append(cost_function(X, y, w, b))\n",
    "            params_history[i] = np.array(w)\n",
    "        if i% math.ceil(num_iters / 10) == 0:\n",
    "            print(f\"Iteration {i:4d}: Cost {cost_history[-1]:0.4f}   \")\n",
    "        \n",
    "    return w, b, params_history, cost_history"
   ]
  },
  {
   "cell_type": "code",
   "execution_count": 16,
   "id": "72cdcbb8-1097-4348-b87c-65cde52c61ec",
   "metadata": {},
   "outputs": [
    {
     "name": "stdout",
     "output_type": "stream",
     "text": [
      "Iteration    0: Cost 0.9629   \n",
      "Iteration 10000: Cost 0.3729   \n",
      "Iteration 20000: Cost 0.3248   \n",
      "Iteration 30000: Cost 0.2891   \n",
      "Iteration 40000: Cost 0.2617   \n",
      "Iteration 50000: Cost 0.2402   \n",
      "Iteration 60000: Cost 0.2229   \n",
      "Iteration 70000: Cost 0.2087   \n",
      "Iteration 80000: Cost 0.1967   \n",
      "Iteration 90000: Cost 0.1866   \n",
      "b,w found by gradient descent: -0.00,[-2.74943e-04  1.20940e-06  1.28029e-05  1.08497e-04 -8.39068e-03] \n"
     ]
    }
   ],
   "source": [
    "# initialize parameters\n",
    "m,n = X_train.shape\n",
    "initial_w = np.zeros((n))\n",
    "initial_b =0\n",
    "# some gradient descent settings\n",
    "iterations = 100000\n",
    "alpha = 3.0e-9\n",
    "# run gradient descent \n",
    "w_final, b_final, params_history, cost_history= gradient_descent(X_train, y_train, initial_w, initial_b,\n",
    "                                               alpha, iterations, compute_cost_logistic, compute_gradient_logistic, )\n",
    "print(f\"b,w found by gradient descent: {b_final:0.2f},{w_final} \")\n"
   ]
  },
  {
   "cell_type": "code",
   "execution_count": 17,
   "id": "9e69c71b-4966-47ce-9f3f-a803043a1d64",
   "metadata": {},
   "outputs": [
    {
     "data": {
      "image/png": "[encoded data removed]",
      "text/plain": [
       "<Figure size 1200x300 with 5 Axes>"
      ]
     },
     "metadata": {},
     "output_type": "display_data"
    }
   ],
   "source": [
    "fig,ax=plt.subplots(1, 5, figsize=(12, 3), constrained_layout=True)\n",
    "for i in range(len(ax)):\n",
    "    ax[i].plot(params_history[:,i],cost_history)\n",
    "    ax[i].set_xlabel(f'w{i+1}')\n",
    "ax[0].set_ylabel(\"Cost J\")\n",
    "plt.show()"
   ]
  },
  {
   "cell_type": "markdown",
   "id": "dc636b71-c869-46de-9ad3-a880695b5d18",
   "metadata": {},
   "source": [
    "# Model Evaluation"
   ]
  },
  {
   "cell_type": "code",
   "execution_count": 18,
   "id": "e59a3a3f-89e7-4258-adcd-f613358f2511",
   "metadata": {},
   "outputs": [
    {
     "name": "stdout",
     "output_type": "stream",
     "text": [
      "actual value = 1     - predicted value = 1.0\n",
      "actual value = 0     - predicted value = 0.0\n",
      "actual value = 1     - predicted value = 1.0\n",
      "actual value = 0     - predicted value = 1.0\n",
      "actual value = 1     - predicted value = 1.0\n",
      "actual value = 1     - predicted value = 1.0\n",
      "actual value = 0     - predicted value = 0.0\n",
      "actual value = 1     - predicted value = 1.0\n",
      "actual value = 1     - predicted value = 1.0\n",
      "actual value = 1     - predicted value = 1.0\n",
      "actual value = 1     - predicted value = 1.0\n",
      "actual value = 1     - predicted value = 1.0\n"
     ]
    }
   ],
   "source": [
    "y_hat = np.zeros((m,))\n",
    "for i in range(m):\n",
    "# We will asume our bounday desicion is 0.5 : if predicted value > 0.5 so loan status = 1 (Approved ) else denied\n",
    "    y_hat[i] = predict(X_train[i],w_final,b_final)>0.5\n",
    "    if(i%5==0):\n",
    "        print(f\"actual value = {y_train[i]}     - predicted value = {y_hat[i]}\")"
   ]
  },
  {
   "cell_type": "code",
   "execution_count": 19,
   "id": "3e06dc4f-5b19-48f3-9041-ebbcd55cd922",
   "metadata": {},
   "outputs": [
    {
     "data": {
      "image/png": "[encoded data removed]",
      "text/plain": [
       "<Figure size 640x480 with 1 Axes>"
      ]
     },
     "metadata": {},
     "output_type": "display_data"
    }
   ],
   "source": [
    "pts = np.arange(len(y_train))\n",
    "# Plot our model prediction\n",
    "plt.scatter(pts, y_hat, marker='x', c='r',label='Our Prediction')\n",
    "# Plot the data points\n",
    "plt.scatter(pts, y_train, marker='.', c='b',label='Actual Values')\n",
    "# Set the title\n",
    "plt.title(\"Model Evaluation\")\n",
    "# Set the y-axis label\n",
    "plt.ylabel('Loan Status')\n",
    "# Set the x-axis label\n",
    "plt.xlabel('points')\n",
    "plt.legend()\n",
    "plt.show()"
   ]
  },
  {
   "cell_type": "code",
   "execution_count": 20,
   "id": "0ccffd28-ff62-4284-a09b-11a845a12e6f",
   "metadata": {},
   "outputs": [
    {
     "data": {
      "image/png": "[encoded data removed]",
      "text/plain": [
       "<Figure size 1200x400 with 1 Axes>"
      ]
     },
     "metadata": {},
     "output_type": "display_data"
    }
   ],
   "source": [
    "# plot cost versus iteration  \n",
    "fig, (ax1) = plt.subplots(1, 1, constrained_layout=True, figsize=(12, 4))\n",
    "ax1.plot(np.arange(len(cost_history)),cost_history)\n",
    "ax1.set_title(\"Cost vs. iteration\")\n",
    "ax1.set_ylabel('Cost')             \n",
    "ax1.set_xlabel('iteration step')  \n",
    "plt.show()"
   ]
  },
  {
   "cell_type": "markdown",
   "id": "fe875068-cb7e-466f-8226-f633e978e728",
   "metadata": {},
   "source": [
    "## Prediction"
   ]
  },
  {
   "cell_type": "code",
   "execution_count": 21,
   "id": "159d1399-5904-4fa6-a4c2-5c0167932934",
   "metadata": {},
   "outputs": [],
   "source": [
    "def predict_loan_status(person):\n",
    "    print(f\"The predicted loan status for this student with : \")\n",
    "    for i in range(5):\n",
    "        print(f\"\\t \\t {f.columns[i]} : {person[i]}\")\n",
    "    print(f\"equals to {int(predict(person,w_final,b_final) > 0.5)}\")"
   ]
  },
  {
   "cell_type": "code",
   "execution_count": 22,
   "id": "5605cfb3-5308-4cf8-b11f-7d3be7cb5519",
   "metadata": {},
   "outputs": [
    {
     "name": "stdout",
     "output_type": "stream",
     "text": [
      "The predicted loan status for this student with : \n",
      "\t \t age : 43\n",
      "\t \t gender : 1\n",
      "\t \t marital_status : 1\n",
      "\t \t income : 95000\n",
      "\t \t credit_score : 760\n",
      "equals to 1\n"
     ]
    }
   ],
   "source": [
    "predict_loan_status (np.array([43,1,1,95000,760])) # Expected Value 1"
   ]
  },
  {
   "cell_type": "code",
   "execution_count": 23,
   "id": "186b861e-8436-4b49-a8de-1cfaece2b78d",
   "metadata": {},
   "outputs": [
    {
     "name": "stdout",
     "output_type": "stream",
     "text": [
      "The predicted loan status for this student with : \n",
      "\t \t age : 30\n",
      "\t \t gender : 0\n",
      "\t \t marital_status : 0\n",
      "\t \t income : 55000\n",
      "\t \t credit_score : 650\n",
      "equals to 1\n"
     ]
    }
   ],
   "source": [
    "predict_loan_status (np.array([30,0,0,55000,650])) # Expected Value 1"
   ]
  },
  {
   "cell_type": "code",
   "execution_count": 24,
   "id": "b1bc5599-55d8-42b7-a5f7-a6716cf73670",
   "metadata": {},
   "outputs": [
    {
     "name": "stdout",
     "output_type": "stream",
     "text": [
      "The predicted loan status for this student with : \n",
      "\t \t age : 38\n",
      "\t \t gender : 1\n",
      "\t \t marital_status : 1\n",
      "\t \t income : 65000\n",
      "\t \t credit_score : 700\n",
      "equals to 1\n"
     ]
    }
   ],
   "source": [
    "predict_loan_status (np.array([38,1,1,65000,700])) # Expected Value 1"
   ]
  },
  {
   "cell_type": "code",
   "execution_count": 25,
   "id": "968acd50-7bdc-49be-b0b3-40fb8ede2cc4",
   "metadata": {},
   "outputs": [
    {
     "name": "stdout",
     "output_type": "stream",
     "text": [
      "The predicted loan status for this student with : \n",
      "\t \t age : 29\n",
      "\t \t gender : 0\n",
      "\t \t marital_status : 0\n",
      "\t \t income : 38000\n",
      "\t \t credit_score : 620\n",
      "equals to 0\n"
     ]
    }
   ],
   "source": [
    "predict_loan_status (np.array([29,0,0,38000,620])) # Expected Value 0"
   ]
  },
  {
   "cell_type": "markdown",
   "id": "7d4b7bb0-c7a8-4f97-854b-5ead242fccda",
   "metadata": {},
   "source": [
    "# Part Two : With scikit Learn"
   ]
  },
  {
   "cell_type": "markdown",
   "id": "5f19598a-9479-4cdc-8bba-741312a6a81d",
   "metadata": {},
   "source": [
    "## Fit the model"
   ]
  },
  {
   "cell_type": "code",
   "execution_count": 27,
   "id": "53837e42-5fb1-47c5-bf14-1961b67518bc",
   "metadata": {},
   "outputs": [
    {
     "data": {
      "text/html": [
       "<style>#sk-container-id-1 {\n",
       "  /* Definition of color scheme common for light and dark mode */\n",
       "  --sklearn-color-text: black;\n",
       "  --sklearn-color-line: gray;\n",
       "  /* Definition of color scheme for unfitted estimators */\n",
       "  --sklearn-color-unfitted-level-0: #fff5e6;\n",
       "  --sklearn-color-unfitted-level-1: #f6e4d2;\n",
       "  --sklearn-color-unfitted-level-2: #ffe0b3;\n",
       "  --sklearn-color-unfitted-level-3: chocolate;\n",
       "  /* Definition of color scheme for fitted estimators */\n",
       "  --sklearn-color-fitted-level-0: #f0f8ff;\n",
       "  --sklearn-color-fitted-level-1: #d4ebff;\n",
       "  --sklearn-color-fitted-level-2: #b3dbfd;\n",
       "  --sklearn-color-fitted-level-3: cornflowerblue;\n",
       "\n",
       "  /* Specific color for light theme */\n",
       "  --sklearn-color-text-on-default-background: var(--sg-text-color, var(--theme-code-foreground, var(--jp-content-font-color1, black)));\n",
       "  --sklearn-color-background: var(--sg-background-color, var(--theme-background, var(--jp-layout-color0, white)));\n",
       "  --sklearn-color-border-box: var(--sg-text-color, var(--theme-code-foreground, var(--jp-content-font-color1, black)));\n",
       "  --sklearn-color-icon: #696969;\n",
       "\n",
       "  @media (prefers-color-scheme: dark) {\n",
       "    /* Redefinition of color scheme for dark theme */\n",
       "    --sklearn-color-text-on-default-background: var(--sg-text-color, var(--theme-code-foreground, var(--jp-content-font-color1, white)));\n",
       "    --sklearn-color-background: var(--sg-background-color, var(--theme-background, var(--jp-layout-color0, #111)));\n",
       "    --sklearn-color-border-box: var(--sg-text-color, var(--theme-code-foreground, var(--jp-content-font-color1, white)));\n",
       "    --sklearn-color-icon: #878787;\n",
       "  }\n",
       "}\n",
       "\n",
       "#sk-container-id-1 {\n",
       "  color: var(--sklearn-color-text);\n",
       "}\n",
       "\n",
       "#sk-container-id-1 pre {\n",
       "  padding: 0;\n",
       "}\n",
       "\n",
       "#sk-container-id-1 input.sk-hidden--visually {\n",
       "  border: 0;\n",
       "  clip: rect(1px 1px 1px 1px);\n",
       "  clip: rect(1px, 1px, 1px, 1px);\n",
       "  height: 1px;\n",
       "  margin: -1px;\n",
       "  overflow: hidden;\n",
       "  padding: 0;\n",
       "  position: absolute;\n",
       "  width: 1px;\n",
       "}\n",
       "\n",
       "#sk-container-id-1 div.sk-dashed-wrapped {\n",
       "  border: 1px dashed var(--sklearn-color-line);\n",
       "  margin: 0 0.4em 0.5em 0.4em;\n",
       "  box-sizing: border-box;\n",
       "  padding-bottom: 0.4em;\n",
       "  background-color: var(--sklearn-color-background);\n",
       "}\n",
       "\n",
       "#sk-container-id-1 div.sk-container {\n",
       "  /* jupyter's `normalize.less` sets `[hidden] { display: none; }`\n",
       "     but bootstrap.min.css set `[hidden] { display: none !important; }`\n",
       "     so we also need the `!important` here to be able to override the\n",
       "     default hidden behavior on the sphinx rendered scikit-learn.org.\n",
       "     See: https://github.com/scikit-learn/scikit-learn/issues/21755 */\n",
       "  display: inline-block !important;\n",
       "  position: relative;\n",
       "}\n",
       "\n",
       "#sk-container-id-1 div.sk-text-repr-fallback {\n",
       "  display: none;\n",
       "}\n",
       "\n",
       "div.sk-parallel-item,\n",
       "div.sk-serial,\n",
       "div.sk-item {\n",
       "  /* draw centered vertical line to link estimators */\n",
       "  background-image: linear-gradient(var(--sklearn-color-text-on-default-background), var(--sklearn-color-text-on-default-background));\n",
       "  background-size: 2px 100%;\n",
       "  background-repeat: no-repeat;\n",
       "  background-position: center center;\n",
       "}\n",
       "\n",
       "/* Parallel-specific style estimator block */\n",
       "\n",
       "#sk-container-id-1 div.sk-parallel-item::after {\n",
       "  content: \"\";\n",
       "  width: 100%;\n",
       "  border-bottom: 2px solid var(--sklearn-color-text-on-default-background);\n",
       "  flex-grow: 1;\n",
       "}\n",
       "\n",
       "#sk-container-id-1 div.sk-parallel {\n",
       "  display: flex;\n",
       "  align-items: stretch;\n",
       "  justify-content: center;\n",
       "  background-color: var(--sklearn-color-background);\n",
       "  position: relative;\n",
       "}\n",
       "\n",
       "#sk-container-id-1 div.sk-parallel-item {\n",
       "  display: flex;\n",
       "  flex-direction: column;\n",
       "}\n",
       "\n",
       "#sk-container-id-1 div.sk-parallel-item:first-child::after {\n",
       "  align-self: flex-end;\n",
       "  width: 50%;\n",
       "}\n",
       "\n",
       "#sk-container-id-1 div.sk-parallel-item:last-child::after {\n",
       "  align-self: flex-start;\n",
       "  width: 50%;\n",
       "}\n",
       "\n",
       "#sk-container-id-1 div.sk-parallel-item:only-child::after {\n",
       "  width: 0;\n",
       "}\n",
       "\n",
       "/* Serial-specific style estimator block */\n",
       "\n",
       "#sk-container-id-1 div.sk-serial {\n",
       "  display: flex;\n",
       "  flex-direction: column;\n",
       "  align-items: center;\n",
       "  background-color: var(--sklearn-color-background);\n",
       "  padding-right: 1em;\n",
       "  padding-left: 1em;\n",
       "}\n",
       "\n",
       "\n",
       "/* Toggleable style: style used for estimator/Pipeline/ColumnTransformer box that is\n",
       "clickable and can be expanded/collapsed.\n",
       "- Pipeline and ColumnTransformer use this feature and define the default style\n",
       "- Estimators will overwrite some part of the style using the `sk-estimator` class\n",
       "*/\n",
       "\n",
       "/* Pipeline and ColumnTransformer style (default) */\n",
       "\n",
       "#sk-container-id-1 div.sk-toggleable {\n",
       "  /* Default theme specific background. It is overwritten whether we have a\n",
       "  specific estimator or a Pipeline/ColumnTransformer */\n",
       "  background-color: var(--sklearn-color-background);\n",
       "}\n",
       "\n",
       "/* Toggleable label */\n",
       "#sk-container-id-1 label.sk-toggleable__label {\n",
       "  cursor: pointer;\n",
       "  display: block;\n",
       "  width: 100%;\n",
       "  margin-bottom: 0;\n",
       "  padding: 0.5em;\n",
       "  box-sizing: border-box;\n",
       "  text-align: center;\n",
       "}\n",
       "\n",
       "#sk-container-id-1 label.sk-toggleable__label-arrow:before {\n",
       "  /* Arrow on the left of the label */\n",
       "  content: \"▸\";\n",
       "  float: left;\n",
       "  margin-right: 0.25em;\n",
       "  color: var(--sklearn-color-icon);\n",
       "}\n",
       "\n",
       "#sk-container-id-1 label.sk-toggleable__label-arrow:hover:before {\n",
       "  color: var(--sklearn-color-text);\n",
       "}\n",
       "\n",
       "/* Toggleable content - dropdown */\n",
       "\n",
       "#sk-container-id-1 div.sk-toggleable__content {\n",
       "  max-height: 0;\n",
       "  max-width: 0;\n",
       "  overflow: hidden;\n",
       "  text-align: left;\n",
       "  /* unfitted */\n",
       "  background-color: var(--sklearn-color-unfitted-level-0);\n",
       "}\n",
       "\n",
       "#sk-container-id-1 div.sk-toggleable__content.fitted {\n",
       "  /* fitted */\n",
       "  background-color: var(--sklearn-color-fitted-level-0);\n",
       "}\n",
       "\n",
       "#sk-container-id-1 div.sk-toggleable__content pre {\n",
       "  margin: 0.2em;\n",
       "  border-radius: 0.25em;\n",
       "  color: var(--sklearn-color-text);\n",
       "  /* unfitted */\n",
       "  background-color: var(--sklearn-color-unfitted-level-0);\n",
       "}\n",
       "\n",
       "#sk-container-id-1 div.sk-toggleable__content.fitted pre {\n",
       "  /* unfitted */\n",
       "  background-color: var(--sklearn-color-fitted-level-0);\n",
       "}\n",
       "\n",
       "#sk-container-id-1 input.sk-toggleable__control:checked~div.sk-toggleable__content {\n",
       "  /* Expand drop-down */\n",
       "  max-height: 200px;\n",
       "  max-width: 100%;\n",
       "  overflow: auto;\n",
       "}\n",
       "\n",
       "#sk-container-id-1 input.sk-toggleable__control:checked~label.sk-toggleable__label-arrow:before {\n",
       "  content: \"▾\";\n",
       "}\n",
       "\n",
       "/* Pipeline/ColumnTransformer-specific style */\n",
       "\n",
       "#sk-container-id-1 div.sk-label input.sk-toggleable__control:checked~label.sk-toggleable__label {\n",
       "  color: var(--sklearn-color-text);\n",
       "  background-color: var(--sklearn-color-unfitted-level-2);\n",
       "}\n",
       "\n",
       "#sk-container-id-1 div.sk-label.fitted input.sk-toggleable__control:checked~label.sk-toggleable__label {\n",
       "  background-color: var(--sklearn-color-fitted-level-2);\n",
       "}\n",
       "\n",
       "/* Estimator-specific style */\n",
       "\n",
       "/* Colorize estimator box */\n",
       "#sk-container-id-1 div.sk-estimator input.sk-toggleable__control:checked~label.sk-toggleable__label {\n",
       "  /* unfitted */\n",
       "  background-color: var(--sklearn-color-unfitted-level-2);\n",
       "}\n",
       "\n",
       "#sk-container-id-1 div.sk-estimator.fitted input.sk-toggleable__control:checked~label.sk-toggleable__label {\n",
       "  /* fitted */\n",
       "  background-color: var(--sklearn-color-fitted-level-2);\n",
       "}\n",
       "\n",
       "#sk-container-id-1 div.sk-label label.sk-toggleable__label,\n",
       "#sk-container-id-1 div.sk-label label {\n",
       "  /* The background is the default theme color */\n",
       "  color: var(--sklearn-color-text-on-default-background);\n",
       "}\n",
       "\n",
       "/* On hover, darken the color of the background */\n",
       "#sk-container-id-1 div.sk-label:hover label.sk-toggleable__label {\n",
       "  color: var(--sklearn-color-text);\n",
       "  background-color: var(--sklearn-color-unfitted-level-2);\n",
       "}\n",
       "\n",
       "/* Label box, darken color on hover, fitted */\n",
       "#sk-container-id-1 div.sk-label.fitted:hover label.sk-toggleable__label.fitted {\n",
       "  color: var(--sklearn-color-text);\n",
       "  background-color: var(--sklearn-color-fitted-level-2);\n",
       "}\n",
       "\n",
       "/* Estimator label */\n",
       "\n",
       "#sk-container-id-1 div.sk-label label {\n",
       "  font-family: monospace;\n",
       "  font-weight: bold;\n",
       "  display: inline-block;\n",
       "  line-height: 1.2em;\n",
       "}\n",
       "\n",
       "#sk-container-id-1 div.sk-label-container {\n",
       "  text-align: center;\n",
       "}\n",
       "\n",
       "/* Estimator-specific */\n",
       "#sk-container-id-1 div.sk-estimator {\n",
       "  font-family: monospace;\n",
       "  border: 1px dotted var(--sklearn-color-border-box);\n",
       "  border-radius: 0.25em;\n",
       "  box-sizing: border-box;\n",
       "  margin-bottom: 0.5em;\n",
       "  /* unfitted */\n",
       "  background-color: var(--sklearn-color-unfitted-level-0);\n",
       "}\n",
       "\n",
       "#sk-container-id-1 div.sk-estimator.fitted {\n",
       "  /* fitted */\n",
       "  background-color: var(--sklearn-color-fitted-level-0);\n",
       "}\n",
       "\n",
       "/* on hover */\n",
       "#sk-container-id-1 div.sk-estimator:hover {\n",
       "  /* unfitted */\n",
       "  background-color: var(--sklearn-color-unfitted-level-2);\n",
       "}\n",
       "\n",
       "#sk-container-id-1 div.sk-estimator.fitted:hover {\n",
       "  /* fitted */\n",
       "  background-color: var(--sklearn-color-fitted-level-2);\n",
       "}\n",
       "\n",
       "/* Specification for estimator info (e.g. \"i\" and \"?\") */\n",
       "\n",
       "/* Common style for \"i\" and \"?\" */\n",
       "\n",
       ".sk-estimator-doc-link,\n",
       "a:link.sk-estimator-doc-link,\n",
       "a:visited.sk-estimator-doc-link {\n",
       "  float: right;\n",
       "  font-size: smaller;\n",
       "  line-height: 1em;\n",
       "  font-family: monospace;\n",
       "  background-color: var(--sklearn-color-background);\n",
       "  border-radius: 1em;\n",
       "  height: 1em;\n",
       "  width: 1em;\n",
       "  text-decoration: none !important;\n",
       "  margin-left: 1ex;\n",
       "  /* unfitted */\n",
       "  border: var(--sklearn-color-unfitted-level-1) 1pt solid;\n",
       "  color: var(--sklearn-color-unfitted-level-1);\n",
       "}\n",
       "\n",
       ".sk-estimator-doc-link.fitted,\n",
       "a:link.sk-estimator-doc-link.fitted,\n",
       "a:visited.sk-estimator-doc-link.fitted {\n",
       "  /* fitted */\n",
       "  border: var(--sklearn-color-fitted-level-1) 1pt solid;\n",
       "  color: var(--sklearn-color-fitted-level-1);\n",
       "}\n",
       "\n",
       "/* On hover */\n",
       "div.sk-estimator:hover .sk-estimator-doc-link:hover,\n",
       ".sk-estimator-doc-link:hover,\n",
       "div.sk-label-container:hover .sk-estimator-doc-link:hover,\n",
       ".sk-estimator-doc-link:hover {\n",
       "  /* unfitted */\n",
       "  background-color: var(--sklearn-color-unfitted-level-3);\n",
       "  color: var(--sklearn-color-background);\n",
       "  text-decoration: none;\n",
       "}\n",
       "\n",
       "div.sk-estimator.fitted:hover .sk-estimator-doc-link.fitted:hover,\n",
       ".sk-estimator-doc-link.fitted:hover,\n",
       "div.sk-label-container:hover .sk-estimator-doc-link.fitted:hover,\n",
       ".sk-estimator-doc-link.fitted:hover {\n",
       "  /* fitted */\n",
       "  background-color: var(--sklearn-color-fitted-level-3);\n",
       "  color: var(--sklearn-color-background);\n",
       "  text-decoration: none;\n",
       "}\n",
       "\n",
       "/* Span, style for the box shown on hovering the info icon */\n",
       ".sk-estimator-doc-link span {\n",
       "  display: none;\n",
       "  z-index: 9999;\n",
       "  position: relative;\n",
       "  font-weight: normal;\n",
       "  right: .2ex;\n",
       "  padding: .5ex;\n",
       "  margin: .5ex;\n",
       "  width: min-content;\n",
       "  min-width: 20ex;\n",
       "  max-width: 50ex;\n",
       "  color: var(--sklearn-color-text);\n",
       "  box-shadow: 2pt 2pt 4pt #999;\n",
       "  /* unfitted */\n",
       "  background: var(--sklearn-color-unfitted-level-0);\n",
       "  border: .5pt solid var(--sklearn-color-unfitted-level-3);\n",
       "}\n",
       "\n",
       ".sk-estimator-doc-link.fitted span {\n",
       "  /* fitted */\n",
       "  background: var(--sklearn-color-fitted-level-0);\n",
       "  border: var(--sklearn-color-fitted-level-3);\n",
       "}\n",
       "\n",
       ".sk-estimator-doc-link:hover span {\n",
       "  display: block;\n",
       "}\n",
       "\n",
       "/* \"?\"-specific style due to the `<a>` HTML tag */\n",
       "\n",
       "#sk-container-id-1 a.estimator_doc_link {\n",
       "  float: right;\n",
       "  font-size: 1rem;\n",
       "  line-height: 1em;\n",
       "  font-family: monospace;\n",
       "  background-color: var(--sklearn-color-background);\n",
       "  border-radius: 1rem;\n",
       "  height: 1rem;\n",
       "  width: 1rem;\n",
       "  text-decoration: none;\n",
       "  /* unfitted */\n",
       "  color: var(--sklearn-color-unfitted-level-1);\n",
       "  border: var(--sklearn-color-unfitted-level-1) 1pt solid;\n",
       "}\n",
       "\n",
       "#sk-container-id-1 a.estimator_doc_link.fitted {\n",
       "  /* fitted */\n",
       "  border: var(--sklearn-color-fitted-level-1) 1pt solid;\n",
       "  color: var(--sklearn-color-fitted-level-1);\n",
       "}\n",
       "\n",
       "/* On hover */\n",
       "#sk-container-id-1 a.estimator_doc_link:hover {\n",
       "  /* unfitted */\n",
       "  background-color: var(--sklearn-color-unfitted-level-3);\n",
       "  color: var(--sklearn-color-background);\n",
       "  text-decoration: none;\n",
       "}\n",
       "\n",
       "#sk-container-id-1 a.estimator_doc_link.fitted:hover {\n",
       "  /* fitted */\n",
       "  background-color: var(--sklearn-color-fitted-level-3);\n",
       "}\n",
       "</style><div id=\"sk-container-id-1\" class=\"sk-top-container\"><div class=\"sk-text-repr-fallback\"><pre>LogisticRegression()</pre><b>In a Jupyter environment, please rerun this cell to show the HTML representation or trust the notebook. <br />On GitHub, the HTML representation is unable to render, please try loading this page with nbviewer.org.</b></div><div class=\"sk-container\" hidden><div class=\"sk-item\"><div class=\"sk-estimator fitted sk-toggleable\"><input class=\"sk-toggleable__control sk-hidden--visually\" id=\"sk-estimator-id-1\" type=\"checkbox\" checked><label for=\"sk-estimator-id-1\" class=\"sk-toggleable__label fitted sk-toggleable__label-arrow fitted\">&nbsp;&nbsp;LogisticRegression<a class=\"sk-estimator-doc-link fitted\" rel=\"noreferrer\" target=\"_blank\" href=\"https://scikit-learn.org/1.5/modules/generated/sklearn.linear_model.LogisticRegression.html\">?<span>Documentation for LogisticRegression</span></a><span class=\"sk-estimator-doc-link fitted\">i<span>Fitted</span></span></label><div class=\"sk-toggleable__content fitted\"><pre>LogisticRegression()</pre></div> </div></div></div></div>"
      ],
      "text/plain": [
       "LogisticRegression()"
      ]
     },
     "execution_count": 27,
     "metadata": {},
     "output_type": "execute_result"
    }
   ],
   "source": [
    "from sklearn.linear_model import LogisticRegression\n",
    "\n",
    "lr_model = LogisticRegression()\n",
    "lr_model.fit(X_train, y_train)"
   ]
  },
  {
   "cell_type": "markdown",
   "id": "43a66272-621f-4be9-8469-4f9b64ef4aa3",
   "metadata": {},
   "source": [
    "## Make Predictions"
   ]
  },
  {
   "cell_type": "code",
   "execution_count": 28,
   "id": "d7c85422-bf78-47d3-ae31-fa6f530ed0c1",
   "metadata": {},
   "outputs": [
    {
     "name": "stdout",
     "output_type": "stream",
     "text": [
      "Prediction on training set: [1 1 0 1 1 0 1 0 1 1 1 1 0 1 1 0 1 1 1 1 1 0 1 0 1 1 1 1 1 1 0 1 1 1 0 1 1\n",
      " 0 1 0 1 1 1 0 1 1 1 1 1 0 1 0 1 0 1 1 0]\n"
     ]
    }
   ],
   "source": [
    "y_pred = lr_model.predict(X_train)\n",
    "\n",
    "print(\"Prediction on training set:\", y_pred)"
   ]
  },
  {
   "cell_type": "code",
   "execution_count": 29,
   "id": "e156ec55-cc44-462b-acf3-3fa5dfbaeb7d",
   "metadata": {},
   "outputs": [
    {
     "data": {
      "image/png": "[encoded data removed]",
      "text/plain": [
       "<Figure size 640x480 with 1 Axes>"
      ]
     },
     "metadata": {},
     "output_type": "display_data"
    }
   ],
   "source": [
    "pts = np.arange(len(y_train))\n",
    "# Plot our model prediction\n",
    "plt.scatter(pts, y_pred, marker='x', c='r',label='Our Prediction')\n",
    "# Plot the data points\n",
    "plt.scatter(pts, y_train, marker='.', c='b',label='Actual Values')\n",
    "# Set the title\n",
    "plt.title(\"Model Evaluation\")\n",
    "# Set the y-axis label\n",
    "plt.ylabel('Loan Status')\n",
    "# Set the x-axis label\n",
    "plt.xlabel('points')\n",
    "plt.legend()\n",
    "plt.show()"
   ]
  },
  {
   "cell_type": "markdown",
   "id": "1cce65ee-7d75-45e1-b809-75e0f77c1273",
   "metadata": {},
   "source": [
    "With Scikit_Learn, we get a better result comparing to our initial model"
   ]
  },
  {
   "cell_type": "code",
   "execution_count": 30,
   "id": "49d3823f-b057-4d53-a3fb-5c400cd18210",
   "metadata": {},
   "outputs": [
    {
     "name": "stdout",
     "output_type": "stream",
     "text": [
      "Accuracy on training set: 1.0\n"
     ]
    }
   ],
   "source": [
    "print(\"Accuracy on training set:\", lr_model.score(X_train, y_train))"
   ]
  },
  {
   "cell_type": "code",
   "execution_count": null,
   "id": "fab66d91-c9af-4e6c-9f05-9f137f72b677",
   "metadata": {},
   "outputs": [],
   "source": []
  }
 ],
 "metadata": {
  "kernelspec": {
   "display_name": "Python 3 (ipykernel)",
   "language": "python",
   "name": "python3"
  },
  "language_info": {
   "codemirror_mode": {
    "name": "ipython",
    "version": 3
   },
   "file_extension": ".py",
   "mimetype": "text/x-python",
   "name": "python",
   "nbconvert_exporter": "python",
   "pygments_lexer": "ipython3",
   "version": "3.9.1"
  }
 },
 "nbformat": 4,
 "nbformat_minor": 5
}
